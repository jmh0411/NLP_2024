{
  "nbformat": 4,
  "nbformat_minor": 0,
  "metadata": {
    "colab": {
      "provenance": [],
      "authorship_tag": "ABX9TyNfi3ezbYqjZ/8LqkYKKxtT",
      "include_colab_link": true
    },
    "kernelspec": {
      "name": "python3",
      "display_name": "Python 3"
    },
    "language_info": {
      "name": "python"
    }
  },
  "cells": [
    {
      "cell_type": "markdown",
      "metadata": {
        "id": "view-in-github",
        "colab_type": "text"
      },
      "source": [
        "<a href=\"https://colab.research.google.com/github/jmh0411/NLP_2024/blob/main/W06_3_20202505.ipynb\" target=\"_parent\"><img src=\"https://colab.research.google.com/assets/colab-badge.svg\" alt=\"Open In Colab\"/></a>"
      ]
    },
    {
      "cell_type": "code",
      "execution_count": 99,
      "metadata": {
        "id": "tyhib9SkqDbe"
      },
      "outputs": [],
      "source": [
        "import requests\n",
        "from bs4 import BeautifulSoup\n"
      ]
    },
    {
      "cell_type": "code",
      "source": [
        "news = 'https://news.daum.net'\n",
        "html = requests.get(news)\n",
        "soup = BeautifulSoup(html.text, 'lxml')\n",
        "soup = BeautifulSoup(requests.get('https://news.daum.net').text,'lxml')"
      ],
      "metadata": {
        "id": "9EVQEmHs0W2b"
      },
      "execution_count": 100,
      "outputs": []
    },
    {
      "cell_type": "code",
      "source": [
        "f = open('total_article.txt','w',encoding= 'utf-8-sig')\n",
        "articles= soup.find_all('div',{'class': 'item_issue'})\n",
        "for i in articles:\n",
        "  print(i.text.replace('\\n','')[:10].strip())\n",
        "  f.write(i.text.replace('\\n','')[:10].strip())\n",
        "  url = i.find('a').get('href')\n",
        "  print(url)\n",
        "  f.write(url)\n",
        "  soup3 = BeautifulSoup(requests.get(url).text,'lxml')\n",
        "  for i in soup3.find_all('p'):\n",
        "    print(j.text.replace('\\n',''))\n",
        "    f.write(j.text.replace('\\n',''))\n",
        "f.close()"
      ],
      "metadata": {
        "id": "jgglxyAU5QCr"
      },
      "execution_count": 101,
      "outputs": []
    },
    {
      "cell_type": "code",
      "source": [],
      "metadata": {
        "id": "VgbOWQn6-yqp"
      },
      "execution_count": null,
      "outputs": []
    },
    {
      "cell_type": "code",
      "source": [
        "import requests\n",
        "from bs4 import BeautifulSoup\n",
        "\n",
        "\n",
        "news = 'https://news.daum.net'\n",
        "html = requests.get(news)\n",
        "soup = BeautifulSoup(html.text, 'lxml')\n",
        "soup = BeautifulSoup(requests.get('https://news.daum.net').text,'lxml')\n",
        "\n",
        "f = open('total_article.txt','w',encoding= 'utf-8-sig')\n",
        "articles= soup.find_all('div',{'class': 'item_issue'})\n",
        "for i in articles:\n",
        "  print(i.text.replace('\\n','')[:10].strip())\n",
        "  f.write(i.text.replace('\\n','')[:10].strip())\n",
        "  url = i.find('a').get('href')\n",
        "  print(url)\n",
        "  f.write(url)\n",
        "  soup3 = BeautifulSoup(requests.get(url).text,'lxml')\n",
        "  for i in soup3.find_all('p'):\n",
        "    print(j.text.replace('\\n',''))\n",
        "    f.write(j.text.replace('\\n',''))\n",
        "f.close()"
      ],
      "metadata": {
        "id": "zZi8wNJlCUEQ"
      },
      "execution_count": null,
      "outputs": []
    },
    {
      "cell_type": "code",
      "source": [
        "!pyinstaller --onefile daumcrawler.py"
      ],
      "metadata": {
        "colab": {
          "base_uri": "https://localhost:8080/"
        },
        "id": "jYDfooJ_Cnww",
        "outputId": "69ef1b2a-23f9-405d-a4ca-b63233a39401"
      },
      "execution_count": 102,
      "outputs": [
        {
          "output_type": "stream",
          "name": "stdout",
          "text": [
            "/bin/bash: line 1: pyinstaller: command not found\n"
          ]
        }
      ]
    }
  ]
}