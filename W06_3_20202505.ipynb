{
  "nbformat": 4,
  "nbformat_minor": 0,
  "metadata": {
    "colab": {
      "provenance": [],
      "authorship_tag": "ABX9TyN/HmB6tNExZqSxTqprKC7d",
      "include_colab_link": true
    },
    "kernelspec": {
      "name": "python3",
      "display_name": "Python 3"
    },
    "language_info": {
      "name": "python"
    }
  },
  "cells": [
    {
      "cell_type": "markdown",
      "metadata": {
        "id": "view-in-github",
        "colab_type": "text"
      },
      "source": [
        "<a href=\"https://colab.research.google.com/github/jmh0411/NLP_2024/blob/main/W06_3_20202505.ipynb\" target=\"_parent\"><img src=\"https://colab.research.google.com/assets/colab-badge.svg\" alt=\"Open In Colab\"/></a>"
      ]
    },
    {
      "cell_type": "code",
      "execution_count": 17,
      "metadata": {
        "id": "tyhib9SkqDbe"
      },
      "outputs": [],
      "source": [
        "import requests\n",
        "from bs4 import BeautifulSoup\n"
      ]
    },
    {
      "cell_type": "code",
      "source": [
        "news = 'https://news.daum.net/home'\n",
        "html = requests.get(news)\n",
        "soup = BeautifulSoup(html.text, 'lxml')\n",
        "soup = BeautifulSoup(requests.get('https://news.daum.net/home').text,'lxml')"
      ],
      "metadata": {
        "id": "9EVQEmHs0W2b"
      },
      "execution_count": 18,
      "outputs": []
    },
    {
      "cell_type": "code",
      "source": [
        "articles= soup.find_all('div', {'class': 'item_issue'})\n",
        "for i in articles:\n",
        "  print(i, text.replace('\\n', ''))"
      ],
      "metadata": {
        "id": "jgglxyAU5QCr"
      },
      "execution_count": 22,
      "outputs": []
    }
  ]
}