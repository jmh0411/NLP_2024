{
  "nbformat": 4,
  "nbformat_minor": 0,
  "metadata": {
    "colab": {
      "provenance": [],
      "authorship_tag": "ABX9TyOJU42rjStix7S1//nx4fqW",
      "include_colab_link": true
    },
    "kernelspec": {
      "name": "python3",
      "display_name": "Python 3"
    },
    "language_info": {
      "name": "python"
    }
  },
  "cells": [
    {
      "cell_type": "markdown",
      "metadata": {
        "id": "view-in-github",
        "colab_type": "text"
      },
      "source": [
        "<a href=\"https://colab.research.google.com/github/jmh0411/NLP_2024/blob/main/%ED%86%B5%EA%B3%84%ED%95%99_%EC%88%98%EC%97%85_%EC%88%98%EC%9A%94%EC%9D%BC_%EA%B0%95%EC%9D%98_%EB%8C%80%EC%B2%B4_%EA%B3%BC%EC%A0%9C.ipynb\" target=\"_parent\"><img src=\"https://colab.research.google.com/assets/colab-badge.svg\" alt=\"Open In Colab\"/></a>"
      ]
    },
    {
      "cell_type": "code",
      "source": [
        "import numpy as np\n",
        "import pandas as pd\n",
        "from scipy.stats import shapiro\n",
        "\n",
        "\n",
        "df = pd.read_csv('/content/wed. homework.csv')\n",
        "\n",
        "\n",
        "data_from_csv = df['Value'].dropna()\n",
        "\n",
        "\n",
        "print(data_from_csv)\n",
        "print('\\n')\n",
        "\n",
        "\n",
        "df2 = pd.DataFrame(data_from_csv, columns=['Value'])\n",
        "\n",
        "\n",
        "print(\"Full set of data points from CSV file:\")\n",
        "print(df2)\n",
        "print('\\n')\n",
        "\n",
        "\n",
        "df2.to_csv('cleaned_value_data.csv', index=True)\n",
        "\n",
        "\n",
        "statistic, p_value = shapiro(data_from_csv)\n",
        "\n",
        "\n",
        "print(\"Shapiro-Wilk Test Statistic:\", statistic)\n",
        "print(\"p-value:\", p_value)\n",
        "\n",
        "\n",
        "alpha = 0.05\n",
        "if p_value > alpha:\n",
        "    print(\"Sample looks Gaussian (fail to reject H0)\")\n",
        "else:\n",
        "    print(\" Sample does not look Gaussian (reject H0)\")"
      ],
      "metadata": {
        "colab": {
          "base_uri": "https://localhost:8080/",
          "height": 0
        },
        "id": "ah2jYvYTTxA_",
        "outputId": "db295699-127a-4803-e1b8-567fa6b6cbb1"
      },
      "execution_count": 40,
      "outputs": [
        {
          "output_type": "stream",
          "name": "stdout",
          "text": [
            "0     97\n",
            "1     86\n",
            "2     85\n",
            "3     74\n",
            "4     14\n",
            "5     55\n",
            "6     79\n",
            "7     57\n",
            "8     97\n",
            "9     27\n",
            "10    35\n",
            "11    56\n",
            "12    86\n",
            "13    45\n",
            "14    78\n",
            "15    75\n",
            "16    48\n",
            "17    46\n",
            "18    98\n",
            "19    68\n",
            "20    80\n",
            "21    76\n",
            "22    90\n",
            "23    80\n",
            "24    52\n",
            "25    82\n",
            "26    78\n",
            "27    42\n",
            "28    51\n",
            "29    60\n",
            "30    24\n",
            "31    21\n",
            "32    90\n",
            "33    81\n",
            "34    50\n",
            "35    50\n",
            "36    64\n",
            "37    40\n",
            "38    30\n",
            "39    40\n",
            "Name: Value, dtype: int64\n",
            "\n",
            "\n",
            "Full set of data points from CSV file:\n",
            "    Value\n",
            "0      97\n",
            "1      86\n",
            "2      85\n",
            "3      74\n",
            "4      14\n",
            "5      55\n",
            "6      79\n",
            "7      57\n",
            "8      97\n",
            "9      27\n",
            "10     35\n",
            "11     56\n",
            "12     86\n",
            "13     45\n",
            "14     78\n",
            "15     75\n",
            "16     48\n",
            "17     46\n",
            "18     98\n",
            "19     68\n",
            "20     80\n",
            "21     76\n",
            "22     90\n",
            "23     80\n",
            "24     52\n",
            "25     82\n",
            "26     78\n",
            "27     42\n",
            "28     51\n",
            "29     60\n",
            "30     24\n",
            "31     21\n",
            "32     90\n",
            "33     81\n",
            "34     50\n",
            "35     50\n",
            "36     64\n",
            "37     40\n",
            "38     30\n",
            "39     40\n",
            "\n",
            "\n",
            "Shapiro-Wilk Test Statistic: 0.9550695703188\n",
            "p-value: 0.11338719388981322\n",
            "✅ Sample looks Gaussian (fail to reject H0)\n"
          ]
        }
      ]
    },
    {
      "cell_type": "markdown",
      "source": [
        "Unpaired student'st-test"
      ],
      "metadata": {
        "id": "GjVhPVfAP0GY"
      }
    },
    {
      "cell_type": "code",
      "execution_count": 11,
      "metadata": {
        "colab": {
          "base_uri": "https://localhost:8080/",
          "height": 0
        },
        "id": "kz0v3EfxK1Xk",
        "outputId": "43fa72b5-f62b-4b38-e507-0bedce9dfef4"
      },
      "outputs": [
        {
          "output_type": "stream",
          "name": "stdout",
          "text": [
            "Ho: Gender differences and grades are not related\n",
            "t-statistic: 0.8509081905289305\n",
            "p-value: 0.4001506034695673\n",
            "Interpretation: Data between the two groups are equal.  (Fail to reject Ho (p>0.05*))\n"
          ]
        }
      ],
      "source": [
        "\n",
        "import pandas as pd\n",
        "from scipy.stats import ttest_ind\n",
        "\n",
        "data = pd.read_csv('/content/wed. homework.csv')\n",
        "Group1= data[data['Group']== 1]['Value']\n",
        "Group2= data[data['Group']== 2]['Value']\n",
        "\n",
        "t_statistic, p_value = ttest_ind(Group1, Group2)\n",
        "\n",
        "print(\"Ho: Gender differences and grades are not related\")\n",
        "print(\"t-statistic:\", t_statistic)\n",
        "print(\"p-value:\", p_value)\n",
        "\n",
        "alpha = 0.05\n",
        "if p_value < alpha:\n",
        "    print(\"Data between the two groups are NOT equal. (Reject Ho (p<0.05*))\")\n",
        "else:\n",
        "    print(\"Interpretation: Data between the two groups are equal.  (Fail to reject Ho (p>0.05*))\")\n",
        "\n"
      ]
    }
  ]
}