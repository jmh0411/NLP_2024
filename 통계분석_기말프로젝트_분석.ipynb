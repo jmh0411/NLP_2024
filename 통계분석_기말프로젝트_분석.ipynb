{
  "nbformat": 4,
  "nbformat_minor": 0,
  "metadata": {
    "colab": {
      "provenance": [],
      "authorship_tag": "ABX9TyMNibxqXLXQm6lLsg7nIb3E",
      "include_colab_link": true
    },
    "kernelspec": {
      "name": "python3",
      "display_name": "Python 3"
    },
    "language_info": {
      "name": "python"
    }
  },
  "cells": [
    {
      "cell_type": "markdown",
      "metadata": {
        "id": "view-in-github",
        "colab_type": "text"
      },
      "source": [
        "<a href=\"https://colab.research.google.com/github/jmh0411/NLP_2024/blob/main/%ED%86%B5%EA%B3%84%EB%B6%84%EC%84%9D_%EA%B8%B0%EB%A7%90%ED%94%84%EB%A1%9C%EC%A0%9D%ED%8A%B8_%EB%B6%84%EC%84%9D.ipynb\" target=\"_parent\"><img src=\"https://colab.research.google.com/assets/colab-badge.svg\" alt=\"Open In Colab\"/></a>"
      ]
    },
    {
      "cell_type": "code",
      "source": [
        "import os,re\n",
        "import pandas as pd\n",
        "df = pd. read_csv('/content/통계분석_기말프로젝트_분석용_데이타.csv')\n",
        "df.head()"
      ],
      "metadata": {
        "colab": {
          "base_uri": "https://localhost:8080/",
          "height": 206
        },
        "id": "OvZoFjqpiGMx",
        "outputId": "f6fc0ee0-d4ef-4412-f4c1-fec996279df6"
      },
      "execution_count": 34,
      "outputs": [
        {
          "output_type": "execute_result",
          "data": {
            "text/plain": [
              "   성별   학년     전공계열   성적  내적동기_전공선택  외적적동기_전공선택  전공만족  중도탈락의도  학업적응  대학선택_타의성  \\\n",
              "0  여자  고학년  인문사회예체능  3.5       2.00         4.0  4.17     1.0  3.50       1.0   \n",
              "1  여자  저학년  인문사회예체능  4.0       2.67         2.0  2.67     2.8  3.75       2.0   \n",
              "2  여자  고학년  인문사회예체능  3.0       3.33         5.0  2.17     3.2  2.50       1.5   \n",
              "3  남자  고학년     자연공학  4.0       2.67         4.0  2.17     3.6  2.75       1.5   \n",
              "4  남자  저학년  인문사회예체능  2.5       2.67         4.0  3.67     2.0  3.25       2.0   \n",
              "\n",
              "   대학만족  \n",
              "0  3.88  \n",
              "1  3.00  \n",
              "2  3.13  \n",
              "3  2.00  \n",
              "4  3.75  "
            ],
            "text/html": [
              "\n",
              "  <div id=\"df-bfbece9a-5640-4e5a-807a-3bf95d27af5b\" class=\"colab-df-container\">\n",
              "    <div>\n",
              "<style scoped>\n",
              "    .dataframe tbody tr th:only-of-type {\n",
              "        vertical-align: middle;\n",
              "    }\n",
              "\n",
              "    .dataframe tbody tr th {\n",
              "        vertical-align: top;\n",
              "    }\n",
              "\n",
              "    .dataframe thead th {\n",
              "        text-align: right;\n",
              "    }\n",
              "</style>\n",
              "<table border=\"1\" class=\"dataframe\">\n",
              "  <thead>\n",
              "    <tr style=\"text-align: right;\">\n",
              "      <th></th>\n",
              "      <th>성별</th>\n",
              "      <th>학년</th>\n",
              "      <th>전공계열</th>\n",
              "      <th>성적</th>\n",
              "      <th>내적동기_전공선택</th>\n",
              "      <th>외적적동기_전공선택</th>\n",
              "      <th>전공만족</th>\n",
              "      <th>중도탈락의도</th>\n",
              "      <th>학업적응</th>\n",
              "      <th>대학선택_타의성</th>\n",
              "      <th>대학만족</th>\n",
              "    </tr>\n",
              "  </thead>\n",
              "  <tbody>\n",
              "    <tr>\n",
              "      <th>0</th>\n",
              "      <td>여자</td>\n",
              "      <td>고학년</td>\n",
              "      <td>인문사회예체능</td>\n",
              "      <td>3.5</td>\n",
              "      <td>2.00</td>\n",
              "      <td>4.0</td>\n",
              "      <td>4.17</td>\n",
              "      <td>1.0</td>\n",
              "      <td>3.50</td>\n",
              "      <td>1.0</td>\n",
              "      <td>3.88</td>\n",
              "    </tr>\n",
              "    <tr>\n",
              "      <th>1</th>\n",
              "      <td>여자</td>\n",
              "      <td>저학년</td>\n",
              "      <td>인문사회예체능</td>\n",
              "      <td>4.0</td>\n",
              "      <td>2.67</td>\n",
              "      <td>2.0</td>\n",
              "      <td>2.67</td>\n",
              "      <td>2.8</td>\n",
              "      <td>3.75</td>\n",
              "      <td>2.0</td>\n",
              "      <td>3.00</td>\n",
              "    </tr>\n",
              "    <tr>\n",
              "      <th>2</th>\n",
              "      <td>여자</td>\n",
              "      <td>고학년</td>\n",
              "      <td>인문사회예체능</td>\n",
              "      <td>3.0</td>\n",
              "      <td>3.33</td>\n",
              "      <td>5.0</td>\n",
              "      <td>2.17</td>\n",
              "      <td>3.2</td>\n",
              "      <td>2.50</td>\n",
              "      <td>1.5</td>\n",
              "      <td>3.13</td>\n",
              "    </tr>\n",
              "    <tr>\n",
              "      <th>3</th>\n",
              "      <td>남자</td>\n",
              "      <td>고학년</td>\n",
              "      <td>자연공학</td>\n",
              "      <td>4.0</td>\n",
              "      <td>2.67</td>\n",
              "      <td>4.0</td>\n",
              "      <td>2.17</td>\n",
              "      <td>3.6</td>\n",
              "      <td>2.75</td>\n",
              "      <td>1.5</td>\n",
              "      <td>2.00</td>\n",
              "    </tr>\n",
              "    <tr>\n",
              "      <th>4</th>\n",
              "      <td>남자</td>\n",
              "      <td>저학년</td>\n",
              "      <td>인문사회예체능</td>\n",
              "      <td>2.5</td>\n",
              "      <td>2.67</td>\n",
              "      <td>4.0</td>\n",
              "      <td>3.67</td>\n",
              "      <td>2.0</td>\n",
              "      <td>3.25</td>\n",
              "      <td>2.0</td>\n",
              "      <td>3.75</td>\n",
              "    </tr>\n",
              "  </tbody>\n",
              "</table>\n",
              "</div>\n",
              "    <div class=\"colab-df-buttons\">\n",
              "\n",
              "  <div class=\"colab-df-container\">\n",
              "    <button class=\"colab-df-convert\" onclick=\"convertToInteractive('df-bfbece9a-5640-4e5a-807a-3bf95d27af5b')\"\n",
              "            title=\"Convert this dataframe to an interactive table.\"\n",
              "            style=\"display:none;\">\n",
              "\n",
              "  <svg xmlns=\"http://www.w3.org/2000/svg\" height=\"24px\" viewBox=\"0 -960 960 960\">\n",
              "    <path d=\"M120-120v-720h720v720H120Zm60-500h600v-160H180v160Zm220 220h160v-160H400v160Zm0 220h160v-160H400v160ZM180-400h160v-160H180v160Zm440 0h160v-160H620v160ZM180-180h160v-160H180v160Zm440 0h160v-160H620v160Z\"/>\n",
              "  </svg>\n",
              "    </button>\n",
              "\n",
              "  <style>\n",
              "    .colab-df-container {\n",
              "      display:flex;\n",
              "      gap: 12px;\n",
              "    }\n",
              "\n",
              "    .colab-df-convert {\n",
              "      background-color: #E8F0FE;\n",
              "      border: none;\n",
              "      border-radius: 50%;\n",
              "      cursor: pointer;\n",
              "      display: none;\n",
              "      fill: #1967D2;\n",
              "      height: 32px;\n",
              "      padding: 0 0 0 0;\n",
              "      width: 32px;\n",
              "    }\n",
              "\n",
              "    .colab-df-convert:hover {\n",
              "      background-color: #E2EBFA;\n",
              "      box-shadow: 0px 1px 2px rgba(60, 64, 67, 0.3), 0px 1px 3px 1px rgba(60, 64, 67, 0.15);\n",
              "      fill: #174EA6;\n",
              "    }\n",
              "\n",
              "    .colab-df-buttons div {\n",
              "      margin-bottom: 4px;\n",
              "    }\n",
              "\n",
              "    [theme=dark] .colab-df-convert {\n",
              "      background-color: #3B4455;\n",
              "      fill: #D2E3FC;\n",
              "    }\n",
              "\n",
              "    [theme=dark] .colab-df-convert:hover {\n",
              "      background-color: #434B5C;\n",
              "      box-shadow: 0px 1px 3px 1px rgba(0, 0, 0, 0.15);\n",
              "      filter: drop-shadow(0px 1px 2px rgba(0, 0, 0, 0.3));\n",
              "      fill: #FFFFFF;\n",
              "    }\n",
              "  </style>\n",
              "\n",
              "    <script>\n",
              "      const buttonEl =\n",
              "        document.querySelector('#df-bfbece9a-5640-4e5a-807a-3bf95d27af5b button.colab-df-convert');\n",
              "      buttonEl.style.display =\n",
              "        google.colab.kernel.accessAllowed ? 'block' : 'none';\n",
              "\n",
              "      async function convertToInteractive(key) {\n",
              "        const element = document.querySelector('#df-bfbece9a-5640-4e5a-807a-3bf95d27af5b');\n",
              "        const dataTable =\n",
              "          await google.colab.kernel.invokeFunction('convertToInteractive',\n",
              "                                                    [key], {});\n",
              "        if (!dataTable) return;\n",
              "\n",
              "        const docLinkHtml = 'Like what you see? Visit the ' +\n",
              "          '<a target=\"_blank\" href=https://colab.research.google.com/notebooks/data_table.ipynb>data table notebook</a>'\n",
              "          + ' to learn more about interactive tables.';\n",
              "        element.innerHTML = '';\n",
              "        dataTable['output_type'] = 'display_data';\n",
              "        await google.colab.output.renderOutput(dataTable, element);\n",
              "        const docLink = document.createElement('div');\n",
              "        docLink.innerHTML = docLinkHtml;\n",
              "        element.appendChild(docLink);\n",
              "      }\n",
              "    </script>\n",
              "  </div>\n",
              "\n",
              "\n",
              "    <div id=\"df-7dbe7c25-ebca-433c-aea9-a5ac0f62f1b7\">\n",
              "      <button class=\"colab-df-quickchart\" onclick=\"quickchart('df-7dbe7c25-ebca-433c-aea9-a5ac0f62f1b7')\"\n",
              "                title=\"Suggest charts\"\n",
              "                style=\"display:none;\">\n",
              "\n",
              "<svg xmlns=\"http://www.w3.org/2000/svg\" height=\"24px\"viewBox=\"0 0 24 24\"\n",
              "     width=\"24px\">\n",
              "    <g>\n",
              "        <path d=\"M19 3H5c-1.1 0-2 .9-2 2v14c0 1.1.9 2 2 2h14c1.1 0 2-.9 2-2V5c0-1.1-.9-2-2-2zM9 17H7v-7h2v7zm4 0h-2V7h2v10zm4 0h-2v-4h2v4z\"/>\n",
              "    </g>\n",
              "</svg>\n",
              "      </button>\n",
              "\n",
              "<style>\n",
              "  .colab-df-quickchart {\n",
              "      --bg-color: #E8F0FE;\n",
              "      --fill-color: #1967D2;\n",
              "      --hover-bg-color: #E2EBFA;\n",
              "      --hover-fill-color: #174EA6;\n",
              "      --disabled-fill-color: #AAA;\n",
              "      --disabled-bg-color: #DDD;\n",
              "  }\n",
              "\n",
              "  [theme=dark] .colab-df-quickchart {\n",
              "      --bg-color: #3B4455;\n",
              "      --fill-color: #D2E3FC;\n",
              "      --hover-bg-color: #434B5C;\n",
              "      --hover-fill-color: #FFFFFF;\n",
              "      --disabled-bg-color: #3B4455;\n",
              "      --disabled-fill-color: #666;\n",
              "  }\n",
              "\n",
              "  .colab-df-quickchart {\n",
              "    background-color: var(--bg-color);\n",
              "    border: none;\n",
              "    border-radius: 50%;\n",
              "    cursor: pointer;\n",
              "    display: none;\n",
              "    fill: var(--fill-color);\n",
              "    height: 32px;\n",
              "    padding: 0;\n",
              "    width: 32px;\n",
              "  }\n",
              "\n",
              "  .colab-df-quickchart:hover {\n",
              "    background-color: var(--hover-bg-color);\n",
              "    box-shadow: 0 1px 2px rgba(60, 64, 67, 0.3), 0 1px 3px 1px rgba(60, 64, 67, 0.15);\n",
              "    fill: var(--button-hover-fill-color);\n",
              "  }\n",
              "\n",
              "  .colab-df-quickchart-complete:disabled,\n",
              "  .colab-df-quickchart-complete:disabled:hover {\n",
              "    background-color: var(--disabled-bg-color);\n",
              "    fill: var(--disabled-fill-color);\n",
              "    box-shadow: none;\n",
              "  }\n",
              "\n",
              "  .colab-df-spinner {\n",
              "    border: 2px solid var(--fill-color);\n",
              "    border-color: transparent;\n",
              "    border-bottom-color: var(--fill-color);\n",
              "    animation:\n",
              "      spin 1s steps(1) infinite;\n",
              "  }\n",
              "\n",
              "  @keyframes spin {\n",
              "    0% {\n",
              "      border-color: transparent;\n",
              "      border-bottom-color: var(--fill-color);\n",
              "      border-left-color: var(--fill-color);\n",
              "    }\n",
              "    20% {\n",
              "      border-color: transparent;\n",
              "      border-left-color: var(--fill-color);\n",
              "      border-top-color: var(--fill-color);\n",
              "    }\n",
              "    30% {\n",
              "      border-color: transparent;\n",
              "      border-left-color: var(--fill-color);\n",
              "      border-top-color: var(--fill-color);\n",
              "      border-right-color: var(--fill-color);\n",
              "    }\n",
              "    40% {\n",
              "      border-color: transparent;\n",
              "      border-right-color: var(--fill-color);\n",
              "      border-top-color: var(--fill-color);\n",
              "    }\n",
              "    60% {\n",
              "      border-color: transparent;\n",
              "      border-right-color: var(--fill-color);\n",
              "    }\n",
              "    80% {\n",
              "      border-color: transparent;\n",
              "      border-right-color: var(--fill-color);\n",
              "      border-bottom-color: var(--fill-color);\n",
              "    }\n",
              "    90% {\n",
              "      border-color: transparent;\n",
              "      border-bottom-color: var(--fill-color);\n",
              "    }\n",
              "  }\n",
              "</style>\n",
              "\n",
              "      <script>\n",
              "        async function quickchart(key) {\n",
              "          const quickchartButtonEl =\n",
              "            document.querySelector('#' + key + ' button');\n",
              "          quickchartButtonEl.disabled = true;  // To prevent multiple clicks.\n",
              "          quickchartButtonEl.classList.add('colab-df-spinner');\n",
              "          try {\n",
              "            const charts = await google.colab.kernel.invokeFunction(\n",
              "                'suggestCharts', [key], {});\n",
              "          } catch (error) {\n",
              "            console.error('Error during call to suggestCharts:', error);\n",
              "          }\n",
              "          quickchartButtonEl.classList.remove('colab-df-spinner');\n",
              "          quickchartButtonEl.classList.add('colab-df-quickchart-complete');\n",
              "        }\n",
              "        (() => {\n",
              "          let quickchartButtonEl =\n",
              "            document.querySelector('#df-7dbe7c25-ebca-433c-aea9-a5ac0f62f1b7 button');\n",
              "          quickchartButtonEl.style.display =\n",
              "            google.colab.kernel.accessAllowed ? 'block' : 'none';\n",
              "        })();\n",
              "      </script>\n",
              "    </div>\n",
              "\n",
              "    </div>\n",
              "  </div>\n"
            ],
            "application/vnd.google.colaboratory.intrinsic+json": {
              "type": "dataframe",
              "variable_name": "df",
              "summary": "{\n  \"name\": \"df\",\n  \"rows\": 330,\n  \"fields\": [\n    {\n      \"column\": \"\\uc131\\ubcc4\",\n      \"properties\": {\n        \"dtype\": \"category\",\n        \"num_unique_values\": 2,\n        \"samples\": [\n          \"\\ub0a8\\uc790\",\n          \"\\uc5ec\\uc790\"\n        ],\n        \"semantic_type\": \"\",\n        \"description\": \"\"\n      }\n    },\n    {\n      \"column\": \"\\ud559\\ub144\",\n      \"properties\": {\n        \"dtype\": \"category\",\n        \"num_unique_values\": 2,\n        \"samples\": [\n          \"\\uc800\\ud559\\ub144\",\n          \"\\uace0\\ud559\\ub144\"\n        ],\n        \"semantic_type\": \"\",\n        \"description\": \"\"\n      }\n    },\n    {\n      \"column\": \"\\uc804\\uacf5\\uacc4\\uc5f4\",\n      \"properties\": {\n        \"dtype\": \"category\",\n        \"num_unique_values\": 2,\n        \"samples\": [\n          \"\\uc790\\uc5f0\\uacf5\\ud559\",\n          \"\\uc778\\ubb38\\uc0ac\\ud68c\\uc608\\uccb4\\ub2a5\"\n        ],\n        \"semantic_type\": \"\",\n        \"description\": \"\"\n      }\n    },\n    {\n      \"column\": \"\\uc131\\uc801\",\n      \"properties\": {\n        \"dtype\": \"number\",\n        \"std\": 0.5068472843570607,\n        \"min\": 2.0,\n        \"max\": 4.0,\n        \"num_unique_values\": 5,\n        \"samples\": [\n          4.0,\n          2.0\n        ],\n        \"semantic_type\": \"\",\n        \"description\": \"\"\n      }\n    },\n    {\n      \"column\": \"\\ub0b4\\uc801\\ub3d9\\uae30_\\uc804\\uacf5\\uc120\\ud0dd\",\n      \"properties\": {\n        \"dtype\": \"number\",\n        \"std\": 1.1909852359210853,\n        \"min\": 1.0,\n        \"max\": 5.0,\n        \"num_unique_values\": 13,\n        \"samples\": [\n          2.33,\n          4.33\n        ],\n        \"semantic_type\": \"\",\n        \"description\": \"\"\n      }\n    },\n    {\n      \"column\": \"\\uc678\\uc801\\uc801\\ub3d9\\uae30_\\uc804\\uacf5\\uc120\\ud0dd\",\n      \"properties\": {\n        \"dtype\": \"number\",\n        \"std\": 1.0501518304942192,\n        \"min\": 1.0,\n        \"max\": 5.0,\n        \"num_unique_values\": 13,\n        \"samples\": [\n          4.67,\n          3.0\n        ],\n        \"semantic_type\": \"\",\n        \"description\": \"\"\n      }\n    },\n    {\n      \"column\": \"\\uc804\\uacf5\\ub9cc\\uc871\",\n      \"properties\": {\n        \"dtype\": \"number\",\n        \"std\": 0.8026486164633599,\n        \"min\": 1.33,\n        \"max\": 5.0,\n        \"num_unique_values\": 23,\n        \"samples\": [\n          1.5,\n          2.33\n        ],\n        \"semantic_type\": \"\",\n        \"description\": \"\"\n      }\n    },\n    {\n      \"column\": \"\\uc911\\ub3c4\\ud0c8\\ub77d\\uc758\\ub3c4\",\n      \"properties\": {\n        \"dtype\": \"number\",\n        \"std\": 1.1943275713177857,\n        \"min\": 1.0,\n        \"max\": 5.0,\n        \"num_unique_values\": 21,\n        \"samples\": [\n          1.0,\n          3.8\n        ],\n        \"semantic_type\": \"\",\n        \"description\": \"\"\n      }\n    },\n    {\n      \"column\": \"\\ud559\\uc5c5\\uc801\\uc751\",\n      \"properties\": {\n        \"dtype\": \"number\",\n        \"std\": 0.7907839448864009,\n        \"min\": 1.0,\n        \"max\": 5.0,\n        \"num_unique_values\": 30,\n        \"samples\": [\n          2.38,\n          4.5\n        ],\n        \"semantic_type\": \"\",\n        \"description\": \"\"\n      }\n    },\n    {\n      \"column\": \"\\ub300\\ud559\\uc120\\ud0dd_\\ud0c0\\uc758\\uc131\",\n      \"properties\": {\n        \"dtype\": \"number\",\n        \"std\": 1.0672840151596872,\n        \"min\": 1.0,\n        \"max\": 5.0,\n        \"num_unique_values\": 17,\n        \"samples\": [\n          1.0,\n          2.0\n        ],\n        \"semantic_type\": \"\",\n        \"description\": \"\"\n      }\n    },\n    {\n      \"column\": \"\\ub300\\ud559\\ub9cc\\uc871\",\n      \"properties\": {\n        \"dtype\": \"number\",\n        \"std\": 0.8754185272560359,\n        \"min\": 1.0,\n        \"max\": 5.0,\n        \"num_unique_values\": 30,\n        \"samples\": [\n          2.25,\n          1.0\n        ],\n        \"semantic_type\": \"\",\n        \"description\": \"\"\n      }\n    }\n  ]\n}"
            }
          },
          "metadata": {},
          "execution_count": 34
        }
      ]
    },
    {
      "cell_type": "code",
      "source": [
        "from scipy import stats\n",
        "남자 = df[df['성별'] == '남자']['중도탈락의도']\n",
        "여자 = df[df['성별'] == '여자']['중도탈락의도']\n",
        "\n",
        "print(stats.ttest_ind(남자,여자))"
      ],
      "metadata": {
        "colab": {
          "base_uri": "https://localhost:8080/"
        },
        "id": "8Bh5R4XPisJA",
        "outputId": "af624694-197b-4a16-9378-8d092b6376a3"
      },
      "execution_count": 44,
      "outputs": [
        {
          "output_type": "stream",
          "name": "stdout",
          "text": [
            "TtestResult(statistic=np.float64(0.32527098031305174), pvalue=np.float64(0.7451840092978183), df=np.float64(327.0))\n"
          ]
        }
      ]
    },
    {
      "cell_type": "code",
      "source": [
        "from scipy import stats\n",
        "\n",
        "\n",
        "남자 = df[df['성별'] == '남자']['중도탈락의도'].dropna()\n",
        "여자 = df[df['성별'] == '여자']['중도탈락의도'].dropna()\n",
        "\n",
        "\n",
        "ttest_result = stats.ttest_ind(남자, 여자, equal_var=False)\n",
        "\n",
        "\n",
        "print(\"t-통계량:\", ttest_result.statistic)\n",
        "print(\"p-value:\", ttest_result.pvalue)\n",
        "\n",
        "if ttest_result.pvalue > 0.05:\n",
        "    print(' p-value는 %.4f로 95%% 신뢰수준에서 **유의하지 않음** → 성별 간 차이 없음' % ttest_result.pvalue)\n",
        "else:\n",
        "    print(' p-value는 %.4f로 95%% 신뢰수준에서 **유의함** → 성별 간 차이 있음' % ttest_result.pvalue)\n"
      ],
      "metadata": {
        "colab": {
          "base_uri": "https://localhost:8080/"
        },
        "id": "iTtCoNiRkxug",
        "outputId": "d1e47dcc-57a9-4399-e2fd-10534f61b31d"
      },
      "execution_count": 49,
      "outputs": [
        {
          "output_type": "stream",
          "name": "stdout",
          "text": [
            "t-통계량: 0.32558132806101364\n",
            "p-value: 0.7449500095659395\n",
            " p-value는 0.7450로 95% 신뢰수준에서 **유의하지 않음** → 성별 간 차이 없음\n"
          ]
        }
      ]
    },
    {
      "cell_type": "code",
      "source": [
        "from scipy import stats\n",
        "저학년 = df[df['학년'] == '저학년']['중도탈락의도']\n",
        "고학년 = df[df['학년'] == '고학년']['중도탈락의도']\n",
        "\n",
        "print(stats.ttest_ind(저학년,고학년))"
      ],
      "metadata": {
        "colab": {
          "base_uri": "https://localhost:8080/"
        },
        "id": "uH4Vwq47k8PY",
        "outputId": "238d62b6-445c-4039-a1f0-337aa2a89893"
      },
      "execution_count": 51,
      "outputs": [
        {
          "output_type": "stream",
          "name": "stdout",
          "text": [
            "TtestResult(statistic=np.float64(2.0032280810595813), pvalue=np.float64(0.0459751771949743), df=np.float64(328.0))\n"
          ]
        }
      ]
    },
    {
      "cell_type": "code",
      "source": [
        "from scipy import stats\n",
        "\n",
        "\n",
        "저학년 = df[df['학년'] == '저학년']['중도탈락의도'].dropna()\n",
        "고학년 = df[df['학년'] == '고학년']['중도탈락의도'].dropna()\n",
        "\n",
        "\n",
        "ttest_result = stats.ttest_ind(저학년, 고학년, equal_var=False)\n",
        "\n",
        "\n",
        "print(\"t-통계량:\", ttest_result.statistic)\n",
        "print(\"p-value:\", ttest_result.pvalue)\n",
        "\n",
        "if ttest_result.pvalue > 0.05:\n",
        "    print(' p-value는 %.4f로 95%% 신뢰수준에서 **유의하지 않음** → 학년 간 차이 없음' % ttest_result.pvalue)\n",
        "else:\n",
        "    print(' p-value는 %.4f로 95%% 신뢰수준에서 **유의함** → 학년 간 차이 있음' % ttest_result.pvalue)\n"
      ],
      "metadata": {
        "colab": {
          "base_uri": "https://localhost:8080/"
        },
        "id": "QSxHHo_QlNQA",
        "outputId": "3b6b4a85-afab-43f3-b3bd-cf2b2fa16f9e"
      },
      "execution_count": 52,
      "outputs": [
        {
          "output_type": "stream",
          "name": "stdout",
          "text": [
            "t-통계량: 2.0101387484983344\n",
            "p-value: 0.04527340393061156\n",
            " p-value는 0.0453로 95% 신뢰수준에서 **유의함** → 학년 간 차이 있음\n"
          ]
        }
      ]
    },
    {
      "cell_type": "code",
      "source": [
        "from scipy import stats\n",
        "\n",
        "\n",
        "자연공학 = df[df['전공계열'] == '자연공학']['중도탈락의도'].dropna()\n",
        "인문사회예체능 = df[df['전공계열'] == '인문사회예체능']['중도탈락의도'].dropna()\n",
        "\n",
        "\n",
        "ttest_result = stats.ttest_ind(자연공학, 인문사회예체능, equal_var=False)\n",
        "\n",
        "\n",
        "print(\"t-통계량:\", ttest_result.statistic)\n",
        "print(\"p-value:\", ttest_result.pvalue)\n",
        "\n",
        "if ttest_result.pvalue > 0.05:\n",
        "    print(' p-value는 %.4f로 95%% 신뢰수준에서 **유의하지 않음** → 전공계열 간 차이 없음' % ttest_result.pvalue)\n",
        "else:\n",
        "    print(' p-value는 %.4f로 95%% 신뢰수준에서 **유의함** → 전공계열 간 차이 있음' % ttest_result.pvalue)\n"
      ],
      "metadata": {
        "colab": {
          "base_uri": "https://localhost:8080/"
        },
        "id": "-JW81LPmlduQ",
        "outputId": "8f9b652e-e134-4d91-a402-5e6674497a53"
      },
      "execution_count": 53,
      "outputs": [
        {
          "output_type": "stream",
          "name": "stdout",
          "text": [
            "t-통계량: 0.8121666934421172\n",
            "p-value: 0.41760664222949295\n",
            " p-value는 0.4176로 95% 신뢰수준에서 **유의하지 않음** → 전공계열 간 차이 없음\n"
          ]
        }
      ]
    },
    {
      "cell_type": "code",
      "source": [
        "vars_to_analyze = ['성적', '내적동기_전공선택', '외적동기_전공선택',\n",
        "                   '전공만족', '학업적응', '대학선택_타의성', '대학만족', '중도탈락의도']\n",
        "\n",
        "\n",
        "correlation_matrix = df[vars_to_analyze].corr(method='pearson')"
      ],
      "metadata": {
        "id": "VKI52PuOl6PQ"
      },
      "execution_count": 62,
      "outputs": []
    },
    {
      "cell_type": "code",
      "source": [
        "print(correlation_matrix.round(3))"
      ],
      "metadata": {
        "colab": {
          "base_uri": "https://localhost:8080/"
        },
        "id": "sXXSKTEOmylv",
        "outputId": "718d29d4-4e85-48e2-b116-b21721e91e06"
      },
      "execution_count": 64,
      "outputs": [
        {
          "output_type": "stream",
          "name": "stdout",
          "text": [
            "              성적  내적동기_전공선택  외적동기_전공선택   전공만족   학업적응  대학선택_타의성   대학만족  중도탈락의도\n",
            "성적         1.000      0.120      0.211  0.203  0.345    -0.102  0.223  -0.204\n",
            "내적동기_전공선택  0.120      1.000      0.353  0.295  0.240     0.168  0.477  -0.160\n",
            "외적동기_전공선택  0.211      0.353      1.000  0.472  0.441    -0.236  0.656  -0.298\n",
            "전공만족       0.203      0.295      0.472  1.000  0.624    -0.220  0.629  -0.582\n",
            "학업적응       0.345      0.240      0.441  0.624  1.000    -0.237  0.518  -0.618\n",
            "대학선택_타의성  -0.102      0.168     -0.236 -0.220 -0.237     1.000 -0.068   0.293\n",
            "대학만족       0.223      0.477      0.656  0.629  0.518    -0.068  1.000  -0.451\n",
            "중도탈락의도    -0.204     -0.160     -0.298 -0.582 -0.618     0.293 -0.451   1.000\n"
          ]
        }
      ]
    },
    {
      "cell_type": "code",
      "source": [
        "print(df[['성적', '내적동기_전공선택', '외적동기_전공선택',\n",
        "                   '전공만족', '학업적응', '대학선택_타의성', '대학만족', '중도탈락의도']].corr(method='pearson'))"
      ],
      "metadata": {
        "colab": {
          "base_uri": "https://localhost:8080/"
        },
        "id": "dCb0yIhXnkgP",
        "outputId": "daaf98b7-bb8e-4c21-a902-2a85cc2750e0"
      },
      "execution_count": 68,
      "outputs": [
        {
          "output_type": "stream",
          "name": "stdout",
          "text": [
            "                 성적  내적동기_전공선택  외적동기_전공선택      전공만족      학업적응  대학선택_타의성  \\\n",
            "성적         1.000000   0.120262   0.211230  0.203024  0.345233 -0.101778   \n",
            "내적동기_전공선택  0.120262   1.000000   0.353154  0.294521  0.239949  0.167837   \n",
            "외적동기_전공선택  0.211230   0.353154   1.000000  0.471617  0.441421 -0.236403   \n",
            "전공만족       0.203024   0.294521   0.471617  1.000000  0.624127 -0.219633   \n",
            "학업적응       0.345233   0.239949   0.441421  0.624127  1.000000 -0.236834   \n",
            "대학선택_타의성  -0.101778   0.167837  -0.236403 -0.219633 -0.236834  1.000000   \n",
            "대학만족       0.223085   0.477321   0.655728  0.628579  0.518445 -0.067691   \n",
            "중도탈락의도    -0.204434  -0.160040  -0.298196 -0.581775 -0.617964  0.293036   \n",
            "\n",
            "               대학만족    중도탈락의도  \n",
            "성적         0.223085 -0.204434  \n",
            "내적동기_전공선택  0.477321 -0.160040  \n",
            "외적동기_전공선택  0.655728 -0.298196  \n",
            "전공만족       0.628579 -0.581775  \n",
            "학업적응       0.518445 -0.617964  \n",
            "대학선택_타의성  -0.067691  0.293036  \n",
            "대학만족       1.000000 -0.450962  \n",
            "중도탈락의도    -0.450962  1.000000  \n"
          ]
        }
      ]
    },
    {
      "cell_type": "code",
      "source": [
        "df.to_csv('/content/통계분석_기말프로젝트_분석용_데이타.csv')"
      ],
      "metadata": {
        "id": "cYAYace4pJ2H"
      },
      "execution_count": 72,
      "outputs": []
    },
    {
      "cell_type": "code",
      "source": [
        "import statsmodels.formula.api as smf\n",
        "\n",
        "\n",
        "model = smf.ols(formula='성적 ~ 대학만족', data=df).fit()\n",
        "result = model.summary()\n",
        "\n",
        "print(model.summary())"
      ],
      "metadata": {
        "colab": {
          "base_uri": "https://localhost:8080/"
        },
        "id": "CBSsq-PUpVh3",
        "outputId": "1bc915b5-9963-4afe-fd51-8fc5395aef77"
      },
      "execution_count": 78,
      "outputs": [
        {
          "output_type": "stream",
          "name": "stdout",
          "text": [
            "                            OLS Regression Results                            \n",
            "==============================================================================\n",
            "Dep. Variable:                     성적   R-squared:                       0.050\n",
            "Model:                            OLS   Adj. R-squared:                  0.047\n",
            "Method:                 Least Squares   F-statistic:                     17.18\n",
            "Date:                Wed, 28 May 2025   Prob (F-statistic):           4.34e-05\n",
            "Time:                        02:09:31   Log-Likelihood:                -235.08\n",
            "No. Observations:                 330   AIC:                             474.2\n",
            "Df Residuals:                     328   BIC:                             481.8\n",
            "Df Model:                           1                                         \n",
            "Covariance Type:            nonrobust                                         \n",
            "==============================================================================\n",
            "                 coef    std err          t      P>|t|      [0.025      0.975]\n",
            "------------------------------------------------------------------------------\n",
            "Intercept      2.8609      0.122     23.413      0.000       2.620       3.101\n",
            "대학만족           0.1292      0.031      4.145      0.000       0.068       0.190\n",
            "==============================================================================\n",
            "Omnibus:                        8.849   Durbin-Watson:                   2.076\n",
            "Prob(Omnibus):                  0.012   Jarque-Bera (JB):                8.847\n",
            "Skew:                          -0.369   Prob(JB):                       0.0120\n",
            "Kurtosis:                       2.686   Cond. No.                         18.7\n",
            "==============================================================================\n",
            "\n",
            "Notes:\n",
            "[1] Standard Errors assume that the covariance matrix of the errors is correctly specified.\n"
          ]
        }
      ]
    },
    {
      "cell_type": "code",
      "source": [
        "import pandas as pd\n",
        "import statsmodels.api as sm\n",
        "from itertools import combinations\n",
        "\n",
        "\n",
        "df = pd.read_csv('/content/통계분석_기말프로젝트_분석용_데이타.csv')\n",
        "\n",
        "predictors = ['성적', '내적동기_전공선택', '외적동기_전공선택', '전공만족',\n",
        "              '학업적응', '대학선택_타의성', '대학만족']\n",
        "target = '중도탈락의도'\n",
        "\n",
        "\n",
        "df = df[[target] + predictors].dropna()\n",
        "\n",
        "\n",
        "best_r2 = -1\n",
        "best_model = None\n",
        "best_features = []\n",
        "\n",
        "for k in range(1, len(predictors)+1):\n",
        "    for combo in combinations(predictors, k):\n",
        "        X = df[list(combo)]\n",
        "        y = df[target]\n",
        "        X = sm.add_constant(X)\n",
        "        model = sm.OLS(y, X).fit()\n",
        "        if model.rsquared > best_r2:\n",
        "            best_r2 = model.rsquared\n",
        "            best_model = model\n",
        "            best_features = combo\n",
        "\n",
        "print(\"가장 높은 R² 모델 변수 조합:\", best_features)\n",
        "print(\" R²:\", round(best_r2, 4))\n",
        "print(\"\\n 회귀 결과 요약:\")\n",
        "print(best_model.summary())"
      ],
      "metadata": {
        "colab": {
          "base_uri": "https://localhost:8080/"
        },
        "id": "FzQPg-0ovTbO",
        "outputId": "ee59b83f-8f8d-489c-bb5b-86f96c1d20c5"
      },
      "execution_count": 80,
      "outputs": [
        {
          "output_type": "stream",
          "name": "stdout",
          "text": [
            "가장 높은 R² 모델 변수 조합: ('성적', '내적동기_전공선택', '외적동기_전공선택', '전공만족', '학업적응', '대학선택_타의성', '대학만족')\n",
            " R²: 0.4766\n",
            "\n",
            " 회귀 결과 요약:\n",
            "                            OLS Regression Results                            \n",
            "==============================================================================\n",
            "Dep. Variable:                 중도탈락의도   R-squared:                       0.477\n",
            "Model:                            OLS   Adj. R-squared:                  0.465\n",
            "Method:                 Least Squares   F-statistic:                     41.89\n",
            "Date:                Wed, 28 May 2025   Prob (F-statistic):           8.65e-42\n",
            "Time:                        02:34:19   Log-Likelihood:                -419.52\n",
            "No. Observations:                 330   AIC:                             855.0\n",
            "Df Residuals:                     322   BIC:                             885.4\n",
            "Df Model:                           7                                         \n",
            "Covariance Type:            nonrobust                                         \n",
            "==============================================================================\n",
            "                 coef    std err          t      P>|t|      [0.025      0.975]\n",
            "------------------------------------------------------------------------------\n",
            "const          5.4866      0.398     13.777      0.000       4.703       6.270\n",
            "성적             0.0195      0.102      0.192      0.848      -0.181       0.219\n",
            "내적동기_전공선택      0.0161      0.048      0.337      0.737      -0.078       0.110\n",
            "외적동기_전공선택      0.1663      0.064      2.611      0.009       0.041       0.292\n",
            "전공만족          -0.3960      0.087     -4.535      0.000      -0.568      -0.224\n",
            "학업적응          -0.5963      0.084     -7.119      0.000      -0.761      -0.432\n",
            "대학선택_타의성       0.1813      0.050      3.633      0.000       0.083       0.280\n",
            "대학만족          -0.2365      0.089     -2.659      0.008      -0.412      -0.061\n",
            "==============================================================================\n",
            "Omnibus:                        7.253   Durbin-Watson:                   1.965\n",
            "Prob(Omnibus):                  0.027   Jarque-Bera (JB):                7.059\n",
            "Skew:                           0.336   Prob(JB):                       0.0293\n",
            "Kurtosis:                       3.246   Cond. No.                         76.4\n",
            "==============================================================================\n",
            "\n",
            "Notes:\n",
            "[1] Standard Errors assume that the covariance matrix of the errors is correctly specified.\n"
          ]
        }
      ]
    }
  ]
}